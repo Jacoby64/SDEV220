{
  "nbformat": 4,
  "nbformat_minor": 0,
  "metadata": {
    "colab": {
      "provenance": []
    },
    "kernelspec": {
      "name": "python3",
      "display_name": "Python 3"
    },
    "language_info": {
      "name": "python"
    }
  },
  "cells": [
    {
      "cell_type": "markdown",
      "source": [
        "Exercise 3.1\n",
        "How many seconds are in an hour? Use the interactive interpreter as a calculator and multiply the number of seconds in a minute (60) by the number of minutes in an hour (also 60)."
      ],
      "metadata": {
        "id": "IGSs2IW7P3VI"
      }
    },
    {
      "cell_type": "code",
      "execution_count": 8,
      "metadata": {
        "id": "qOb-0mBHPumf",
        "colab": {
          "base_uri": "https://localhost:8080/"
        },
        "outputId": "e823922a-49d5-4f41-968c-cb33aadbf14e"
      },
      "outputs": [
        {
          "output_type": "stream",
          "name": "stdout",
          "text": [
            "3600\n"
          ]
        }
      ],
      "source": [
        "x = 0\n",
        "minutes = int(60)\n",
        "seconds = int(60)\n",
        "\n",
        "x = minutes * seconds\n",
        "\n",
        "print(x)"
      ]
    },
    {
      "cell_type": "markdown",
      "source": [
        "3.2 Assign the result from the previous task (seconds in an hour) to a variable called seconds_per_hour."
      ],
      "metadata": {
        "id": "UUMfV7moIuNh"
      }
    },
    {
      "cell_type": "code",
      "source": [
        "seconds_per_hour = 0\n",
        "minutes = int(60)\n",
        "seconds = int(60)\n",
        "\n",
        "seconds_per_hour = minutes * seconds\n",
        "\n",
        "print(seconds_per_hour)"
      ],
      "metadata": {
        "colab": {
          "base_uri": "https://localhost:8080/"
        },
        "id": "ts0FqBJkI0DY",
        "outputId": "dfb6a61b-99d8-412e-fc0a-94a549eae7fb"
      },
      "execution_count": 2,
      "outputs": [
        {
          "output_type": "stream",
          "name": "stdout",
          "text": [
            "3600\n"
          ]
        }
      ]
    },
    {
      "cell_type": "markdown",
      "source": [
        "3.3 How many seconds are in a day? Use your seconds_per_hour variable."
      ],
      "metadata": {
        "id": "bovr1_BSJCNA"
      }
    },
    {
      "cell_type": "code",
      "source": [
        "seconds_per_hour = 0\n",
        "x = 0\n",
        "minutes = int(60)\n",
        "seconds = int(60)\n",
        "\n",
        "seconds_per_hour = minutes * seconds\n",
        "\n",
        "x = seconds_per_hour * 24\n",
        "\n",
        "print(x)"
      ],
      "metadata": {
        "colab": {
          "base_uri": "https://localhost:8080/"
        },
        "id": "Qee322fAJFf8",
        "outputId": "3f7fb51b-d00d-484b-c5ca-d65a05df7393"
      },
      "execution_count": 5,
      "outputs": [
        {
          "output_type": "stream",
          "name": "stdout",
          "text": [
            "86400\n"
          ]
        }
      ]
    },
    {
      "cell_type": "markdown",
      "source": [
        "3.4 Calculate seconds per day again, but this time save the result in a variable called seconds_per_day."
      ],
      "metadata": {
        "id": "zh1pzj-wJcSK"
      }
    },
    {
      "cell_type": "code",
      "source": [
        "seconds_per_hour = 0\n",
        "seconds_per_day = 0\n",
        "minutes = int(60)\n",
        "seconds = int(60)\n",
        "\n",
        "seconds_per_hour = minutes * seconds\n",
        "\n",
        "seconds_per_day = seconds_per_hour * 24\n",
        "\n",
        "print(seconds_per_day)"
      ],
      "metadata": {
        "colab": {
          "base_uri": "https://localhost:8080/"
        },
        "id": "d-HbCdvKJeSe",
        "outputId": "2b684593-450e-4e71-a5ba-2e9734eea616"
      },
      "execution_count": 6,
      "outputs": [
        {
          "output_type": "stream",
          "name": "stdout",
          "text": [
            "86400\n"
          ]
        }
      ]
    },
    {
      "cell_type": "markdown",
      "source": [
        "3.5 Divide seconds_per_day by seconds_per_hour. Use floating-point (/) division."
      ],
      "metadata": {
        "id": "l_Mlg7ZMJxdz"
      }
    },
    {
      "cell_type": "code",
      "source": [
        "x = 0\n",
        "seconds_per_hour = 0\n",
        "seconds_per_day = 0\n",
        "minutes = int(60)\n",
        "seconds = int(60)\n",
        "\n",
        "seconds_per_hour = minutes * seconds\n",
        "\n",
        "seconds_per_day = seconds_per_hour * 24\n",
        "\n",
        "x = seconds_per_day / seconds_per_hour\n",
        "\n",
        "print(x)"
      ],
      "metadata": {
        "colab": {
          "base_uri": "https://localhost:8080/"
        },
        "id": "JzqCO0YmJy8J",
        "outputId": "420d1bdf-edca-4f07-9db9-54e72c1225e4"
      },
      "execution_count": 9,
      "outputs": [
        {
          "output_type": "stream",
          "name": "stdout",
          "text": [
            "24.0\n"
          ]
        }
      ]
    },
    {
      "cell_type": "markdown",
      "source": [
        "3.6 Divide seconds_per_day by seconds_per_hour, using integer (//) division. Did this number agree with the floating-point value from the previous question, aside from the final .0?"
      ],
      "metadata": {
        "id": "ULjIf6K6J7rt"
      }
    },
    {
      "cell_type": "code",
      "source": [
        "x = 0\n",
        "seconds_per_hour = 0\n",
        "seconds_per_day = 0\n",
        "minutes = int(60)\n",
        "seconds = int(60)\n",
        "\n",
        "seconds_per_hour = minutes * seconds\n",
        "\n",
        "seconds_per_day = seconds_per_hour * 24\n",
        "\n",
        "x = seconds_per_day // seconds_per_hour\n",
        "\n",
        "print(x)"
      ],
      "metadata": {
        "id": "rKOcCGBvJ8lq"
      },
      "execution_count": null,
      "outputs": []
    },
    {
      "cell_type": "markdown",
      "source": [
        "This final number did match with the floating point value aside from the .0"
      ],
      "metadata": {
        "id": "RSLFXAFhKUuu"
      }
    }
  ]
}