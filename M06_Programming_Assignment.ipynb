{
  "nbformat": 4,
  "nbformat_minor": 0,
  "metadata": {
    "colab": {
      "provenance": []
    },
    "kernelspec": {
      "name": "python3",
      "display_name": "Python 3"
    },
    "language_info": {
      "name": "python"
    }
  },
  "cells": [
    {
      "cell_type": "markdown",
      "source": [
        "13.1 Write the current date as a string to the text file today.txt."
      ],
      "metadata": {
        "id": "p4OLh7MXCZkc"
      }
    },
    {
      "cell_type": "markdown",
      "source": [
        "Today's date is Tuesday September 26th 2023."
      ],
      "metadata": {
        "id": "9wgUTJgNH7Si"
      }
    },
    {
      "cell_type": "markdown",
      "source": [
        "13.2 Read the text file today.txt into the string today_string."
      ],
      "metadata": {
        "id": "kykiOtlXHRbE"
      }
    },
    {
      "cell_type": "code",
      "source": [
        "with open(\"/today.txt\", \"r\") as file:\n",
        "    today_string = file.read()\n",
        "\n",
        "print(today_string)"
      ],
      "metadata": {
        "colab": {
          "base_uri": "https://localhost:8080/"
        },
        "id": "EsdorxNaCdph",
        "outputId": "d1576151-825d-43f4-9b07-f951b95d6c43"
      },
      "execution_count": 13,
      "outputs": [
        {
          "output_type": "stream",
          "name": "stdout",
          "text": [
            "Today's date is Tuesday September 26th 2023.\n"
          ]
        }
      ]
    },
    {
      "cell_type": "markdown",
      "source": [
        "13.3 Parse the date from today_string."
      ],
      "metadata": {
        "id": "gSCiBVbZCd1o"
      }
    },
    {
      "cell_type": "code",
      "source": [
        "import datetime\n",
        "import re\n",
        "\n",
        "date_pattern = r\"(\\w+ \\w+ \\d{1,2}\\w+ \\d{4})\"\n",
        "\n",
        "match = re.search(date_pattern, today_string)\n",
        "\n",
        "if match:\n",
        "    date_string = match.group(1)\n",
        "\n",
        "    parsed_date = datetime.datetime.strptime(date_string, \"%A %B %dth %Y\")\n",
        "\n",
        "    print(\"Parsed Date:\", parsed_date.strftime(\"%A, %B %d, %Y\"))\n",
        "\n",
        "else:\n",
        "    print(\"Date not found in the input string.\")\n",
        "\n"
      ],
      "metadata": {
        "colab": {
          "base_uri": "https://localhost:8080/"
        },
        "id": "-MO2FF30CfMH",
        "outputId": "3488df38-d016-4c80-85fd-d7933f220cac"
      },
      "execution_count": 14,
      "outputs": [
        {
          "output_type": "stream",
          "name": "stdout",
          "text": [
            "Parsed Date: Tuesday, September 26, 2023\n"
          ]
        }
      ]
    },
    {
      "cell_type": "markdown",
      "source": [
        "15.1 Use multiprocessing to create three separate processes. Make each one wait a random number of seconds between zero and one, print the current time, and then exit."
      ],
      "metadata": {
        "id": "vxHvvJc5PJVo"
      }
    },
    {
      "cell_type": "code",
      "source": [
        "import multiprocessing\n",
        "import time\n",
        "import random\n",
        "from datetime import datetime\n",
        "\n",
        "def worker():\n",
        "    sleep_time = random.uniform(0,1)\n",
        "\n",
        "    time.sleep(sleep_time)\n",
        "\n",
        "    current_time = datetime.now().strftime(\"%Y-%m-%d %H:%M:%S\")\n",
        "\n",
        "    print(f\"Process ID: {multiprocessing.current_process().name}, Current Time: {current_time}\")\n",
        "\n",
        "if __name__ ==\"__main__\":\n",
        "    processes = [multiprocessing.Process(target=worker) for _ in range(3)]\n",
        "\n",
        "    for process in processes:\n",
        "        process.start()\n",
        "\n",
        "    for process in processes:\n",
        "        process.join()"
      ],
      "metadata": {
        "colab": {
          "base_uri": "https://localhost:8080/"
        },
        "id": "yE_Xl6iTPO3I",
        "outputId": "8a42616b-94f4-4b50-b0c0-52cb6fcfe668"
      },
      "execution_count": 19,
      "outputs": [
        {
          "output_type": "stream",
          "name": "stdout",
          "text": [
            "Process ID: Process-13, Current Time: 2023-09-27 01:31:43\n",
            "Process ID: Process-14, Current Time: 2023-09-27 01:31:44\n",
            "Process ID: Process-15, Current Time: 2023-09-27 01:31:44\n"
          ]
        }
      ]
    }
  ]
}