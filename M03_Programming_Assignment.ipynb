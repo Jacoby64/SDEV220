{
  "nbformat": 4,
  "nbformat_minor": 0,
  "metadata": {
    "colab": {
      "provenance": []
    },
    "kernelspec": {
      "name": "python3",
      "display_name": "Python 3"
    },
    "language_info": {
      "name": "python"
    }
  },
  "cells": [
    {
      "cell_type": "markdown",
      "source": [
        "7.4 Make a list called things with these three strings as elements: \"mozzarella\", \"cinderella\", \"salmonella\"."
      ],
      "metadata": {
        "id": "I9wBqbTFYenW"
      }
    },
    {
      "cell_type": "code",
      "source": [
        "things = ['mozzarella', 'cinderella', 'salmonella']\n",
        "tuple(things)"
      ],
      "metadata": {
        "colab": {
          "base_uri": "https://localhost:8080/"
        },
        "id": "UbECgzEjYeXC",
        "outputId": "569ddaf8-49a7-4eb0-96eb-bd0d80f62c64"
      },
      "execution_count": 9,
      "outputs": [
        {
          "output_type": "execute_result",
          "data": {
            "text/plain": [
              "('mozzarella', 'cinderella', 'samonella')"
            ]
          },
          "metadata": {},
          "execution_count": 9
        }
      ]
    },
    {
      "cell_type": "markdown",
      "source": [
        "7.5 Capitalize the element in things that refers to a person and then print the list. Did it change the element in the list?"
      ],
      "metadata": {
        "id": "w2tLQALxZM-k"
      }
    },
    {
      "cell_type": "code",
      "source": [
        "things = ['mozzarella', 'cinderella', 'salmonella']\n",
        "person_index = things.index(\"cinderella\")\n",
        "things[person_index] = things[person_index].capitalize()\n",
        "tuple(things)"
      ],
      "metadata": {
        "colab": {
          "base_uri": "https://localhost:8080/"
        },
        "id": "lSrH7yoEZNR9",
        "outputId": "3dd3224c-0c99-4dff-9395-fb51e7e94ff3"
      },
      "execution_count": 10,
      "outputs": [
        {
          "output_type": "execute_result",
          "data": {
            "text/plain": [
              "('mozzarella', 'Cinderella', 'salmonella')"
            ]
          },
          "metadata": {},
          "execution_count": 10
        }
      ]
    },
    {
      "cell_type": "markdown",
      "source": [
        "7.6 Make the cheesy element of things all uppercase and then print the list."
      ],
      "metadata": {
        "id": "b7XT6pnKZNqe"
      }
    },
    {
      "cell_type": "code",
      "source": [
        "things = ['mozzarella', 'cinderella', 'salmonella']\n",
        "person_index = things.index(\"cinderella\")\n",
        "cheesy_index = things.index(\"mozzarella\")\n",
        "things[cheesy_index] = things[cheesy_index].upper()\n",
        "things[person_index] = things[person_index].capitalize()\n",
        "tuple(things)"
      ],
      "metadata": {
        "colab": {
          "base_uri": "https://localhost:8080/"
        },
        "id": "pLLp2RvxZN6-",
        "outputId": "d8ac86e5-49c3-4e12-f9bf-44899c005e85"
      },
      "execution_count": 11,
      "outputs": [
        {
          "output_type": "execute_result",
          "data": {
            "text/plain": [
              "('MOZZARELLA', 'Cinderella', 'salmonella')"
            ]
          },
          "metadata": {},
          "execution_count": 11
        }
      ]
    },
    {
      "cell_type": "markdown",
      "source": [
        "7.7 Delete the disease element from things, collect your Nobel Prize, and print the list."
      ],
      "metadata": {
        "id": "XXp11_4Ma3sD"
      }
    },
    {
      "cell_type": "code",
      "source": [
        "things = ['mozzarella', 'cinderella', 'salmonella']\n",
        "person_index = things.index(\"cinderella\")\n",
        "cheesy_index = things.index(\"mozzarella\")\n",
        "things.remove(\"salmonella\")\n",
        "things[cheesy_index] = things[cheesy_index].upper()\n",
        "things[person_index] = things[person_index].capitalize()\n",
        "tuple(things)"
      ],
      "metadata": {
        "colab": {
          "base_uri": "https://localhost:8080/"
        },
        "id": "SALbwImda4JM",
        "outputId": "3f4c3c1d-f90b-43ac-85f4-9bf4fed1a478"
      },
      "execution_count": 14,
      "outputs": [
        {
          "output_type": "execute_result",
          "data": {
            "text/plain": [
              "('MOZZARELLA', 'Cinderella')"
            ]
          },
          "metadata": {},
          "execution_count": 14
        }
      ]
    },
    {
      "cell_type": "markdown",
      "source": [
        "9.1 Define a function called good() that returns the following list: ['Harry', 'Ron', 'Hermione']."
      ],
      "metadata": {
        "id": "gclzq8wKbnHn"
      }
    },
    {
      "cell_type": "code",
      "source": [
        "def good():\n",
        "  return ['Harry', 'Ron', 'Hermione']\n",
        "\n",
        "good_list = good()\n",
        "\n",
        "print(good_list)"
      ],
      "metadata": {
        "colab": {
          "base_uri": "https://localhost:8080/"
        },
        "id": "N816PDFxbnfl",
        "outputId": "1d936e0a-f1c0-4fb5-818c-1c6307493f5f"
      },
      "execution_count": 15,
      "outputs": [
        {
          "output_type": "stream",
          "name": "stdout",
          "text": [
            "['Harry', 'Ron', 'Hermione']\n"
          ]
        }
      ]
    },
    {
      "cell_type": "markdown",
      "source": [
        "9.2 Define a generator function called get_odds() that returns the odd numbers from range(10). Use a for loop to find and print the third value returned.\n",
        "\n"
      ],
      "metadata": {
        "id": "gM8VIqMqbntd"
      }
    },
    {
      "cell_type": "code",
      "source": [
        "def get_odds():\n",
        "  for number in range(10):\n",
        "    if number % 2 != 0:\n",
        "      yield number\n",
        "\n",
        "count = 0\n",
        "\n",
        "for odd_number in get_odds():\n",
        "  count += 1\n",
        "  if count == 3:\n",
        "    print(\"The third odd number is:\", odd_number)\n",
        "    break"
      ],
      "metadata": {
        "colab": {
          "base_uri": "https://localhost:8080/"
        },
        "id": "th4y6lHRbn-n",
        "outputId": "514d01e6-31ad-49a8-950d-3d65f41f2f55"
      },
      "execution_count": 16,
      "outputs": [
        {
          "output_type": "stream",
          "name": "stdout",
          "text": [
            "The third odd number is: 5\n"
          ]
        }
      ]
    }
  ]
}