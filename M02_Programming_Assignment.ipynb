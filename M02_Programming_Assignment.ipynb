{
  "nbformat": 4,
  "nbformat_minor": 0,
  "metadata": {
    "colab": {
      "provenance": []
    },
    "kernelspec": {
      "name": "python3",
      "display_name": "Python 3"
    },
    "language_info": {
      "name": "python"
    }
  },
  "cells": [
    {
      "cell_type": "markdown",
      "source": [
        "4.1 Choose a number between 1 and 10 and assign it to the variable secret. Then, select another number between 1 and 10 and assign it to the variable guess. Next, write the conditional tests (if, else, and elif) to print the string 'too low' if guess is less than secret, 'too high' if greater than secret, and 'just right' if equal to secret."
      ],
      "metadata": {
        "id": "_VHY9BjA4jeK"
      }
    },
    {
      "cell_type": "code",
      "execution_count": null,
      "metadata": {
        "id": "bDAF-FhG4fex"
      },
      "outputs": [],
      "source": [
        "secret = 4\n",
        "guess = 4\n",
        "\n",
        "if guess < secret:\n",
        "    print(\"too low\")\n",
        "\n",
        "elif guess > secret:\n",
        "    print(\"too high\")\n",
        "\n",
        "else:\n",
        "    print(\"just right\")"
      ]
    },
    {
      "cell_type": "markdown",
      "source": [
        "4.2 Assign True or False to the variables small and green. Write some if/else statements to print which of these matches those choices: cherry, pea, watermelon, pumpkin."
      ],
      "metadata": {
        "id": "-o7YNQx14iEe"
      }
    },
    {
      "cell_type": "code",
      "source": [
        "choices = {'cherry', 'pea', 'watermelon', 'pumpkin'}\n",
        "small_set = {'cherry', 'pea'}\n",
        "green_set = {'pea', 'watermelon'}\n",
        "\n",
        "if choices == small_set:\n",
        "    True\n",
        "elif choices == green_set:\n",
        "    True\n",
        "else:\n",
        "    False\n",
        "\n"
      ],
      "metadata": {
        "id": "Ijys2xnJ4oPw"
      },
      "execution_count": null,
      "outputs": []
    },
    {
      "cell_type": "markdown",
      "source": [
        "6.1 Use a for loop to print the values of the list [3, 2, 1, 0]."
      ],
      "metadata": {
        "id": "qgxalzEp7FgZ"
      }
    },
    {
      "cell_type": "code",
      "source": [
        "for x in range(3, -1, -1):\n",
        "\n",
        "    x = list( range(3, -1, -1))\n",
        "print(x)\n"
      ],
      "metadata": {
        "id": "jdT4_8Ex7efb"
      },
      "execution_count": null,
      "outputs": []
    },
    {
      "cell_type": "markdown",
      "source": [
        "6.2 Assign the value 7 to the variable guess_me, and the value 1 to the variable number. Write a while loop that compares number with guess_me. Print 'too low' if number is less than guess me. If number equals guess_me, print 'found it!' and then exit the loop. If number is greater than guess_me, print 'oops' and then exit the loop. Increment number at the end of the loop."
      ],
      "metadata": {
        "id": "6Fhh2ViS7evI"
      }
    },
    {
      "cell_type": "code",
      "source": [
        "guess_me = 7\n",
        "number = 1\n",
        "\n",
        "while True:\n",
        "    if number < guess_me:\n",
        "        print('too low')\n",
        "    elif number == guess_me:\n",
        "        print('found it!')\n",
        "        break\n",
        "    else:\n",
        "        print('oops')\n",
        "        break\n",
        "    number += 1\n",
        "\n"
      ],
      "metadata": {
        "id": "vYZrHteR7gUm"
      },
      "execution_count": null,
      "outputs": []
    },
    {
      "cell_type": "markdown",
      "source": [
        "6.3 Assign the value 5 to the variable guess_me. Use a for loop to iterate a variable called number over range(10). If number is less than guess_me, print 'too low'. If it equals guess_me, print found it! and then break out of the for loop. If number is greater than guess_me, print 'oops' and then exit the loop."
      ],
      "metadata": {
        "id": "jeJBOEaL7g8w"
      }
    },
    {
      "cell_type": "code",
      "source": [
        "guess_me = 5\n",
        "\n",
        "for number_over in range(10):\n",
        "    if number_over < guess_me:\n",
        "        print('too low')\n",
        "    elif number_over == guess_me:\n",
        "        print('found it!')\n",
        "        break\n",
        "    else:\n",
        "        print('oops')\n",
        "        break"
      ],
      "metadata": {
        "colab": {
          "base_uri": "https://localhost:8080/"
        },
        "id": "4CqwgvQt7icq",
        "outputId": "7d97a6f0-4b0c-4dbf-f55b-4baa2c28e21d"
      },
      "execution_count": 6,
      "outputs": [
        {
          "output_type": "stream",
          "name": "stdout",
          "text": [
            "too low\n",
            "too low\n",
            "too low\n",
            "too low\n",
            "too low\n",
            "found it!\n"
          ]
        }
      ]
    }
  ]
}